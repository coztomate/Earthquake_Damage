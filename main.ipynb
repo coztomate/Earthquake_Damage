{
 "cells": [
  {
   "cell_type": "code",
   "execution_count": 10,
   "metadata": {},
   "outputs": [],
   "source": [
    "# Open data from the file\n",
    "\n",
    "import pandas as pd\n",
    "import numpy as np\n",
    "# for preprocessing the data\n",
    "from sklearn.preprocessing import StandardScaler\n",
    "\n",
    "# the model\n",
    "from sklearn.ensemble import RandomForestClassifier\n",
    "\n",
    "# for combining the preprocess with model training\n",
    "from sklearn.pipeline import make_pipeline\n",
    "\n",
    "# for optimizing the hyperparameters of the pipeline\n",
    "from sklearn.model_selection import GridSearchCV\n",
    "\n",
    "# Read the data from the file\n",
    "\n",
    "df = pd.read_csv('Data/train_values.csv')\n",
    "df_labels = pd.read_csv('Data/train_labels.csv')\n",
    "test_df = pd.read_csv('Data/test_values.csv')\n",
    "\n",
    "\n",
    "# Drop land_surface_condition\n",
    "df = df.drop('land_surface_condition', axis=1)\n"
   ]
  },
  {
   "cell_type": "code",
   "execution_count": 11,
   "metadata": {},
   "outputs": [],
   "source": [
    "## Cleaning data\n",
    "\n",
    "# Use Catbooster to encode the categorical data\n",
    "from catboost import CatBoostClassifier\n",
    "\n",
    "# Create a list of categorical columns to iterate over\n",
    "cat_cols = ['foundation_type', 'roof_type', 'ground_floor_type', 'other_floor_type', 'position', 'plan_configuration', 'legal_ownership_status']\n",
    "\n",
    "# Drop all the collums cat_cols\n",
    "df = df.drop(columns=cat_cols)\n",
    "\n",
    "\n",
    "# # Create a function to encode the categorical data\n",
    "# def cat_encode(df, cat_cols):\n",
    "#     for col in cat_cols:\n",
    "#         cb = CatBoostClassifier()\n",
    "#         cb.fit(df[col], df_labels['damage_grade'])\n",
    "#         df[col] = cb.predict(df[col])\n",
    "#     return df\n",
    "\n",
    "\n",
    "# # Encode the categorical data\n",
    "\n",
    "# df = cat_encode(df, cat_cols)\n",
    "# test_df = cat_encode(test_df, cat_cols)\n",
    "\n",
    "# Drop the building_id column\n",
    "df = df.drop(columns=['building_id'])\n",
    "\n",
    "# Drop the geo_level \n",
    "df = df.drop(columns=['geo_level_1_id'])\n",
    "df = df.drop(columns=['geo_level_2_id'])\n",
    "df = df.drop(columns=['geo_level_3_id'])\n",
    "\n",
    "\n",
    "# Build a classifier random forest to predict the damage grade\n",
    "\n",
    "# Create model\n",
    "\n",
    "# Create a pipeline\n",
    "\n",
    "pipeline = make_pipeline(StandardScaler(), RandomForestClassifier())\n",
    "\n",
    "# Create a grid of parameters to search over\n",
    "\n",
    "hyperparameters = {'randomforestclassifier__n_estimators': [100, 200],\n",
    "                    'randomforestclassifier__max_features': ['auto', 'sqrt', 'log2'],\n",
    "                    'randomforestclassifier__max_depth': [None, 5, 3, 1]}\n",
    "\n",
    "# Create a grid search object with the pipeline and the hyperparameters\n",
    "\n",
    "clf = GridSearchCV(pipeline, hyperparameters, cv=10)\n",
    "\n",
    "# Fit and tune model\n",
    "\n",
    "clf.fit(df, df_labels['damage_grade'])\n",
    "\n",
    "# Predict the labels of the test set\n",
    "\n",
    "pred = clf.predict(test_df)\n",
    "\n",
    "\n",
    "# Measure the accuracy\n",
    "\n",
    "from sklearn.metrics import accuracy_score\n",
    "\n",
    "print(accuracy_score(df_labels['damage_grade'], clf.predict(df)))\n",
    "\n"
   ]
  },
  {
   "cell_type": "code",
   "execution_count": null,
   "metadata": {},
   "outputs": [],
   "source": [
    "## Feature engineering\n",
    "\n",
    "# Build a model to predict the damage grade using Geo level 1, 2 and 3"
   ]
  },
  {
   "cell_type": "code",
   "execution_count": null,
   "metadata": {},
   "outputs": [],
   "source": [
    "# Model"
   ]
  },
  {
   "cell_type": "code",
   "execution_count": null,
   "metadata": {},
   "outputs": [],
   "source": [
    "# Benchmark"
   ]
  }
 ],
 "metadata": {
  "kernelspec": {
   "display_name": "Python 3",
   "language": "python",
   "name": "python3"
  },
  "language_info": {
   "codemirror_mode": {
    "name": "ipython",
    "version": 3
   },
   "file_extension": ".py",
   "mimetype": "text/x-python",
   "name": "python",
   "nbconvert_exporter": "python",
   "pygments_lexer": "ipython3",
   "version": "3.11.5"
  },
  "orig_nbformat": 4
 },
 "nbformat": 4,
 "nbformat_minor": 2
}
