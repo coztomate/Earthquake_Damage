{
 "cells": [
  {
   "cell_type": "markdown",
   "metadata": {},
   "source": [
    "# Import Data"
   ]
  },
  {
   "cell_type": "code",
   "execution_count": 1,
   "metadata": {},
   "outputs": [
    {
     "name": "stdout",
     "output_type": "stream",
     "text": [
      "(86868, 39)\n",
      "(260601, 2)\n",
      "(86868, 39)\n"
     ]
    }
   ],
   "source": [
    "import sys\n",
    "\n",
    "## Get the path dinamically to the src folder and add it to the path\n",
    "sys.path.append(\"../src\")\n",
    "\n",
    "import importer\n",
    "\n",
    "train_values, train_labels, test_values = importer.import_data(directory=\"../Data\")\n",
    "\n",
    "print(train_values.shape)\n",
    "print(train_labels.shape)\n",
    "print(test_values.shape)\n"
   ]
  },
  {
   "cell_type": "markdown",
   "metadata": {},
   "source": [
    "# Impute Data"
   ]
  },
  {
   "cell_type": "code",
   "execution_count": 2,
   "metadata": {},
   "outputs": [],
   "source": [
    "import imputator\n",
    "\n",
    "train_values, train_labels, test_values = imputator.impute_data(train_values, train_labels, test_values)"
   ]
  },
  {
   "cell_type": "markdown",
   "metadata": {},
   "source": [
    "# Encode Data"
   ]
  },
  {
   "cell_type": "code",
   "execution_count": 3,
   "metadata": {},
   "outputs": [],
   "source": [
    "import encoder\n",
    "\n",
    "train_values, train_labels, test_values = encoder.encode(train_values, train_labels, test_values)\n",
    "\n",
    "\n",
    "## Geo encoder\n",
    "\n",
    "# Train data Geo Values\n",
    "geo1 = encoder.dummy_encode(train_values[\"geo_level_1_id\"])\n",
    "geo2 = encoder.dummy_encode(train_values[\"geo_level_2_id\"])\n",
    "geo3 = encoder.dummy_encode(train_values[\"geo_level_3_id\"])"
   ]
  },
  {
   "cell_type": "markdown",
   "metadata": {},
   "source": [
    "# Create a model"
   ]
  },
  {
   "cell_type": "code",
   "execution_count": null,
   "metadata": {},
   "outputs": [],
   "source": [
    "import model\n",
    "\n",
    "model = model.neural_network(geo1.shape[1], geo2.shape[1], geo3.shape[1])\n",
    "\n",
    "model.fit(geo3, [geo2, geo1], epochs=10, batch_size=32, validation_split=0.2)\n",
    "model.save(\"model.h5\")"
   ]
  },
  {
   "cell_type": "markdown",
   "metadata": {},
   "source": [
    "# Evaluate the model"
   ]
  },
  {
   "cell_type": "code",
   "execution_count": null,
   "metadata": {},
   "outputs": [],
   "source": [
    "import evaluator\n",
    "\n",
    "evaluator.print_model_summary(model)"
   ]
  },
  {
   "cell_type": "markdown",
   "metadata": {},
   "source": [
    "# Submit"
   ]
  },
  {
   "cell_type": "code",
   "execution_count": null,
   "metadata": {},
   "outputs": [],
   "source": [
    "import submiter\n",
    "\n",
    "submiter.submit(model, test_values)\n"
   ]
  }
 ],
 "metadata": {
  "kernelspec": {
   "display_name": "Python 3",
   "language": "python",
   "name": "python3"
  },
  "language_info": {
   "codemirror_mode": {
    "name": "ipython",
    "version": 3
   },
   "file_extension": ".py",
   "mimetype": "text/x-python",
   "name": "python",
   "nbconvert_exporter": "python",
   "pygments_lexer": "ipython3",
   "version": "3.11.5"
  },
  "orig_nbformat": 4
 },
 "nbformat": 4,
 "nbformat_minor": 2
}
