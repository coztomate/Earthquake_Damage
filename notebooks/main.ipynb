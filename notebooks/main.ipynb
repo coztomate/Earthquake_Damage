{
 "cells": [
  {
   "cell_type": "markdown",
   "metadata": {},
   "source": [
    "# Import Data\n",
    "\n",
    "First we import the data from the csv file. We use the pandas library to read the csv file and store it in a dataframe."
   ]
  },
  {
   "cell_type": "code",
   "execution_count": 1,
   "metadata": {},
   "outputs": [
    {
     "name": "stdout",
     "output_type": "stream",
     "text": [
      "Train values shape:  (260601, 39)\n",
      "Train labels shape:  (260601, 2)\n",
      "Test values shape:  (86868, 39)\n"
     ]
    }
   ],
   "source": [
    "import sys\n",
    "\n",
    "sys.path.append(\"../src\")\n",
    "\n",
    "import importer\n",
    "\n",
    "raw_train_values, raw_train_labels, raw_test_values = importer.import_data(directory=\"../Data\")\n",
    "\n",
    "# Print the shapes of the data\n",
    "print(\"Train values shape: \", raw_train_values.shape)\n",
    "print(\"Train labels shape: \", raw_train_labels.shape)\n",
    "print(\"Test values shape: \", raw_test_values.shape)\n"
   ]
  },
  {
   "cell_type": "markdown",
   "metadata": {},
   "source": [
    "# Clean Data\n",
    "\n",
    "We clean the data by removing the rows categorical data. This is a fast implementation of the data cleaning process."
   ]
  },
  {
   "cell_type": "code",
   "execution_count": 2,
   "metadata": {},
   "outputs": [
    {
     "name": "stdout",
     "output_type": "stream",
     "text": [
      "Train data shape:  (260601, 28)\n",
      "Test data shape:  (86868, 28)\n"
     ]
    }
   ],
   "source": [
    "import cleaner\n",
    "\n",
    "train_data, test_data = cleaner.clean(raw_train_values, raw_train_labels, raw_test_values)\n",
    "\n",
    "# Print the shapes of the new data\n",
    "print(\"Train data shape: \", train_data.shape)\n",
    "print(\"Test data shape: \", test_data.shape)"
   ]
  },
  {
   "cell_type": "markdown",
   "metadata": {},
   "source": [
    "# Encode Data"
   ]
  },
  {
   "cell_type": "code",
   "execution_count": 3,
   "metadata": {},
   "outputs": [
    {
     "name": "stdout",
     "output_type": "stream",
     "text": [
      "Train data shape:  (260601, 29)\n",
      "Test data shape:  (86868, 29)\n",
      "Train data columns:  Index(['count_floors_pre_eq', 'age', 'area_percentage', 'height_percentage',\n",
      "       'has_superstructure_adobe_mud', 'has_superstructure_mud_mortar_stone',\n",
      "       'has_superstructure_stone_flag',\n",
      "       'has_superstructure_cement_mortar_stone',\n",
      "       'has_superstructure_mud_mortar_brick',\n",
      "       'has_superstructure_cement_mortar_brick', 'has_superstructure_timber',\n",
      "       'has_superstructure_bamboo', 'has_superstructure_rc_non_engineered',\n",
      "       'has_superstructure_rc_engineered', 'has_superstructure_other',\n",
      "       'count_families', 'has_secondary_use', 'has_secondary_use_agriculture',\n",
      "       'has_secondary_use_hotel', 'has_secondary_use_rental',\n",
      "       'has_secondary_use_institution', 'has_secondary_use_school',\n",
      "       'has_secondary_use_industry', 'has_secondary_use_health_post',\n",
      "       'has_secondary_use_gov_office', 'has_secondary_use_use_police',\n",
      "       'has_secondary_use_other', 'damage_grade_0', 'damage_grade_1'],\n",
      "      dtype='object')\n",
      "Test data columns:  Index(['count_floors_pre_eq', 'age', 'area_percentage', 'height_percentage',\n",
      "       'has_superstructure_adobe_mud', 'has_superstructure_mud_mortar_stone',\n",
      "       'has_superstructure_stone_flag',\n",
      "       'has_superstructure_cement_mortar_stone',\n",
      "       'has_superstructure_mud_mortar_brick',\n",
      "       'has_superstructure_cement_mortar_brick', 'has_superstructure_timber',\n",
      "       'has_superstructure_bamboo', 'has_superstructure_rc_non_engineered',\n",
      "       'has_superstructure_rc_engineered', 'has_superstructure_other',\n",
      "       'count_families', 'has_secondary_use', 'has_secondary_use_agriculture',\n",
      "       'has_secondary_use_hotel', 'has_secondary_use_rental',\n",
      "       'has_secondary_use_institution', 'has_secondary_use_school',\n",
      "       'has_secondary_use_industry', 'has_secondary_use_health_post',\n",
      "       'has_secondary_use_gov_office', 'has_secondary_use_use_police',\n",
      "       'has_secondary_use_other', 'damage_grade_0', 'damage_grade_1'],\n",
      "      dtype='object')\n"
     ]
    }
   ],
   "source": [
    "import encoder\n",
    "\n",
    "train_data, test_data = encoder.encode(train_data, test_data)\n",
    "\n",
    "# Print the shapes of the new data\n",
    "print(\"Train data shape: \", train_data.shape)\n",
    "print(\"Test data shape: \", test_data.shape)\n",
    "\n",
    "# Print the columns of the new data\n",
    "print(\"Train data columns: \", train_data.columns)\n",
    "print(\"Test data columns: \", test_data.columns)"
   ]
  },
  {
   "cell_type": "markdown",
   "metadata": {},
   "source": [
    "# Create a model\n",
    "\n",
    "We create a model using the sklearn library. We use the RandomForestClassifier to create a model."
   ]
  },
  {
   "cell_type": "code",
   "execution_count": 4,
   "metadata": {},
   "outputs": [],
   "source": [
    "import model\n",
    "\n",
    "model = model.random_forest(train_data)"
   ]
  },
  {
   "cell_type": "markdown",
   "metadata": {},
   "source": [
    "# Evaluate the model"
   ]
  },
  {
   "cell_type": "code",
   "execution_count": 5,
   "metadata": {},
   "outputs": [
    {
     "name": "stdout",
     "output_type": "stream",
     "text": [
      "F-Score:  0.9762168532704775\n"
     ]
    }
   ],
   "source": [
    "import evaluator\n",
    "\n",
    "predictions = evaluator.print_model_summary(model, test_data)"
   ]
  },
  {
   "cell_type": "markdown",
   "metadata": {},
   "source": [
    "# Submit"
   ]
  },
  {
   "cell_type": "code",
   "execution_count": 6,
   "metadata": {},
   "outputs": [
    {
     "data": {
      "text/html": [
       "<div>\n",
       "<style scoped>\n",
       "    .dataframe tbody tr th:only-of-type {\n",
       "        vertical-align: middle;\n",
       "    }\n",
       "\n",
       "    .dataframe tbody tr th {\n",
       "        vertical-align: top;\n",
       "    }\n",
       "\n",
       "    .dataframe thead th {\n",
       "        text-align: right;\n",
       "    }\n",
       "</style>\n",
       "<table border=\"1\" class=\"dataframe\">\n",
       "  <thead>\n",
       "    <tr style=\"text-align: right;\">\n",
       "      <th></th>\n",
       "      <th>building_id</th>\n",
       "      <th>damage_grade_0</th>\n",
       "      <th>damage_grade_1</th>\n",
       "    </tr>\n",
       "  </thead>\n",
       "  <tbody>\n",
       "    <tr>\n",
       "      <th>0</th>\n",
       "      <td>300051</td>\n",
       "      <td>1</td>\n",
       "      <td>1</td>\n",
       "    </tr>\n",
       "    <tr>\n",
       "      <th>1</th>\n",
       "      <td>99355</td>\n",
       "      <td>1</td>\n",
       "      <td>0</td>\n",
       "    </tr>\n",
       "    <tr>\n",
       "      <th>2</th>\n",
       "      <td>890251</td>\n",
       "      <td>1</td>\n",
       "      <td>0</td>\n",
       "    </tr>\n",
       "    <tr>\n",
       "      <th>3</th>\n",
       "      <td>745817</td>\n",
       "      <td>1</td>\n",
       "      <td>1</td>\n",
       "    </tr>\n",
       "    <tr>\n",
       "      <th>4</th>\n",
       "      <td>421793</td>\n",
       "      <td>1</td>\n",
       "      <td>0</td>\n",
       "    </tr>\n",
       "  </tbody>\n",
       "</table>\n",
       "</div>"
      ],
      "text/plain": [
       "   building_id  damage_grade_0  damage_grade_1\n",
       "0       300051               1               1\n",
       "1        99355               1               0\n",
       "2       890251               1               0\n",
       "3       745817               1               1\n",
       "4       421793               1               0"
      ]
     },
     "execution_count": 6,
     "metadata": {},
     "output_type": "execute_result"
    }
   ],
   "source": [
    "import pandas as pd\n",
    "\n",
    "# Create a data frame with the predictions\n",
    "predictions = pd.DataFrame(predictions, columns=['damage_grade_0', 'damage_grade_1'])\n",
    "\n",
    "# Add the building_id column\n",
    "predictions['building_id'] = raw_test_values['building_id']\n",
    "\n",
    "# Rearrange the columns\n",
    "predictions = predictions[['building_id', 'damage_grade_0', 'damage_grade_1']]\n",
    "\n",
    "# Save the predictions in a csv file\n",
    "predictions.to_csv('../Data/predictions.csv', index=False)\n",
    "\n",
    "predictions.head()"
   ]
  }
 ],
 "metadata": {
  "kernelspec": {
   "display_name": "Python 3",
   "language": "python",
   "name": "python3"
  },
  "language_info": {
   "codemirror_mode": {
    "name": "ipython",
    "version": 3
   },
   "file_extension": ".py",
   "mimetype": "text/x-python",
   "name": "python",
   "nbconvert_exporter": "python",
   "pygments_lexer": "ipython3",
   "version": "3.11.5"
  },
  "orig_nbformat": 4
 },
 "nbformat": 4,
 "nbformat_minor": 2
}
